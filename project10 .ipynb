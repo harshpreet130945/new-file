{
 "cells": [
  {
   "cell_type": "markdown",
   "metadata": {},
   "source": [
    "# day10"
   ]
  },
  {
   "cell_type": "code",
   "execution_count": 1,
   "metadata": {},
   "outputs": [
    {
     "name": "stdout",
     "output_type": "stream",
     "text": [
      "False\n",
      "True\n"
     ]
    }
   ],
   "source": [
    "import re\n",
    "print(bool(re.match(\"^[A-Za-z0-9_-]*$\", 'This will give ans as 0 or false')))\n",
    "print(bool(re.match(\"^[A-Za-z0-9_-]*$\", 'ThisWillGiveAnsAsTrueOr1')))"
   ]
  },
  {
   "cell_type": "code",
   "execution_count": 2,
   "metadata": {},
   "outputs": [
    {
     "name": "stdout",
     "output_type": "stream",
     "text": [
      "abnormal\n",
      "No word found with 'ab' init\n"
     ]
    }
   ],
   "source": [
    "import re\n",
    "string1 = \"This will give abnormal as ans\"\n",
    "string2 = \"This will return No word found\"\n",
    "\n",
    "def word_checker(string) :\n",
    "    regex = re.compile(\"ab+\\w*\")\n",
    "    word_found = regex.findall(string)\n",
    "    if len(word_found) != 0 : \n",
    "        for word in word_found : \n",
    "            print(word)\n",
    "    else : \n",
    "        print(\"No word found with 'ab' init\")\n",
    "\n",
    "word_checker(string1)\n",
    "word_checker(string2)"
   ]
  },
  {
   "cell_type": "code",
   "execution_count": 3,
   "metadata": {},
   "outputs": [
    {
     "name": "stdout",
     "output_type": "stream",
     "text": [
      "Found a number at the end of string\n",
      "Didn't find a number at the end of string\n"
     ]
    }
   ],
   "source": [
    "import re\n",
    "def check_num_at_end(string):\n",
    "    regex = re.compile(r\".*[0-9]$\")\n",
    "    if regex.match(string):\n",
    "        print(\"Found a number at the end of string\")\n",
    "    else:\n",
    "        print(\"Didn't find a number at the end of string\")\n",
    "\n",
    "check_num_at_end('harshpreet99')\n",
    "check_num_at_end('harshpreet')"
   ]
  },
  {
   "cell_type": "code",
   "execution_count": 7,
   "metadata": {},
   "outputs": [
    {
     "name": "stdout",
     "output_type": "stream",
     "text": [
      "['100', '293', '290', '93', '929', '39']\n"
     ]
    }
   ],
   "source": [
    "import re\n",
    "string = \"100asdfsdf293290sdfds93asdf92939\"\n",
    "array = re.findall(r'[0-9]{1,3}', string)\n",
    "print(array)"
   ]
  },
  {
   "cell_type": "code",
   "execution_count": 9,
   "metadata": {},
   "outputs": [
    {
     "name": "stdout",
     "output_type": "stream",
     "text": [
      "Found uppercase letters in the string\n",
      "No uppercase letters were found in the string\n"
     ]
    }
   ],
   "source": [
    "import re\n",
    "def check_uppercase_letters(string):\n",
    "    regex = '^[A-Z]*$'\n",
    "    if re.search(regex, string):\n",
    "        print(\"Found uppercase letters in the string\")\n",
    "    else:\n",
    "        print(\"No uppercase letters were found in the string\")\n",
    "\n",
    "check_uppercase_letters(\"THESEAREUPPERCASELETTERS\")\n",
    "check_uppercase_letters(\"thesearelowercaseletters\")"
   ]
  },
  {
   "cell_type": "code",
   "execution_count": null,
   "metadata": {},
   "outputs": [],
   "source": []
  },
  {
   "cell_type": "code",
   "execution_count": null,
   "metadata": {},
   "outputs": [],
   "source": []
  },
  {
   "cell_type": "code",
   "execution_count": null,
   "metadata": {},
   "outputs": [],
   "source": []
  },
  {
   "cell_type": "code",
   "execution_count": null,
   "metadata": {},
   "outputs": [],
   "source": []
  },
  {
   "cell_type": "code",
   "execution_count": null,
   "metadata": {},
   "outputs": [],
   "source": []
  },
  {
   "cell_type": "code",
   "execution_count": null,
   "metadata": {},
   "outputs": [],
   "source": []
  },
  {
   "cell_type": "code",
   "execution_count": null,
   "metadata": {},
   "outputs": [],
   "source": []
  },
  {
   "cell_type": "code",
   "execution_count": null,
   "metadata": {},
   "outputs": [],
   "source": []
  },
  {
   "cell_type": "code",
   "execution_count": null,
   "metadata": {},
   "outputs": [],
   "source": []
  },
  {
   "cell_type": "code",
   "execution_count": null,
   "metadata": {},
   "outputs": [],
   "source": []
  },
  {
   "cell_type": "code",
   "execution_count": null,
   "metadata": {},
   "outputs": [],
   "source": []
  }
 ],
 "metadata": {
  "kernelspec": {
   "display_name": "Python 3",
   "language": "python",
   "name": "python3"
  },
  "language_info": {
   "codemirror_mode": {
    "name": "ipython",
    "version": 3
   },
   "file_extension": ".py",
   "mimetype": "text/x-python",
   "name": "python",
   "nbconvert_exporter": "python",
   "pygments_lexer": "ipython3",
   "version": "3.8.5"
  }
 },
 "nbformat": 4,
 "nbformat_minor": 4
}
